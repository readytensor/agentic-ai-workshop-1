{
 "cells": [
  {
   "cell_type": "markdown",
   "id": "48c03ab5",
   "metadata": {},
   "source": [
    "# Agentic AI Workshop — Part 2: Embeddings & Cosine Similarity (No Vector DB yet)\n",
    "\n",
    "This notebook demonstrates:\n",
    "- Creating embeddings for a small set of texts\n",
    "- Computing cosine similarity for a query vs. sources\n",
    "- Explaining why embeddings matter for retrieval\n"
   ]
  },
  {
   "cell_type": "markdown",
   "id": "5337be13",
   "metadata": {},
   "source": [
    "# %%capture\n",
    "# If needed, uncomment to install:\n",
    "# !pip install --upgrade openai numpy pandas"
   ]
  },
  {
   "cell_type": "code",
   "execution_count": null,
   "id": "d26f1f85",
   "metadata": {},
   "outputs": [],
   "source": [
    "from openai import OpenAI\n",
    "import numpy as np\n",
    "import pandas as pd\n",
    "\n",
    "client = OpenAI()\n",
    "\n",
    "def get_embeddings(texts, model=\"text-embedding-3-small\"):\n",
    "    # Returns an array of shape (N, D)\n",
    "    resp = client.embeddings.create(model=model, input=texts)\n",
    "    return np.array([d.embedding for d in resp.data], dtype=np.float32)\n",
    "\n",
    "def cosine_sim(a, b):\n",
    "    a = a / (np.linalg.norm(a) + 1e-8)\n",
    "    b = b / (np.linalg.norm(b) + 1e-8)\n",
    "    return float(np.dot(a, b))"
   ]
  },
  {
   "cell_type": "code",
   "execution_count": null,
   "id": "a94e870a",
   "metadata": {},
   "outputs": [],
   "source": [
    "docs = [\n",
    "    \"Ready Tensor’s platform helps publish AI projects and evaluate models.\",\n",
    "    \"RAG retrieves context from a knowledge base to ground LLM answers.\",\n",
    "    \"Vector databases store embeddings and support fast similarity search.\",\n",
    "    \"Prompt engineering shapes model behavior with clear instructions and constraints.\",\n",
    "    \"Multi‑agent systems coordinate several specialized LLMs to solve complex tasks.\",\n",
    "]\n",
    "\n",
    "query = \"How do I ground a model’s answer in external knowledge?\"\n",
    "\n",
    "doc_embeddings = get_embeddings(docs)\n",
    "query_embedding = get_embeddings([query])[0]\n",
    "\n",
    "# Compute cosine similarities\n",
    "scores = [cosine_sim(query_embedding, e) for e in doc_embeddings]\n",
    "df = pd.DataFrame({\n",
    "    \"doc_id\": range(len(docs)),\n",
    "    \"document\": docs,\n",
    "    \"cosine_similarity\": scores\n",
    "}).sort_values(\"cosine_similarity\", ascending=False)\n",
    "\n",
    "df"
   ]
  }
 ],
 "metadata": {},
 "nbformat": 4,
 "nbformat_minor": 5
}
