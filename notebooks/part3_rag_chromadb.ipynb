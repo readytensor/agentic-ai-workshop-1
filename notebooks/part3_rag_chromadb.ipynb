{
 "cells": [
  {
   "cell_type": "markdown",
   "id": "f09c466b",
   "metadata": {},
   "source": [
    "# Agentic AI Workshop — Part 3: RAG Chatbot with ChromaDB\n",
    "\n",
    "This notebook demonstrates:\n",
    "- Ingesting a small set of documents\n",
    "- Chunking + embedding with OpenAI Embeddings\n",
    "- Storing & retrieving with ChromaDB\n",
    "- Building a simple RAG prompt\n",
    "- Gradio Chat UI that does retrieval on each turn\n",
    "\n",
    "> **Prereqs**\n",
    "> - `pip install chromadb openai gradio tiktoken` (tiktoken optional for token-aware chunking)\n"
   ]
  },
  {
   "cell_type": "code",
   "execution_count": 1,
   "id": "b5d20e38",
   "metadata": {},
   "outputs": [
    {
     "name": "stdout",
     "output_type": "stream",
     "text": [
      "/Users/mo/Desktop/agentic-ai-workshop-1/.env\n"
     ]
    }
   ],
   "source": [
    "import os\n",
    "import sys\n",
    "from openai import OpenAI\n",
    "import chromadb\n",
    "import gradio as gr\n",
    "from typing import List, Dict\n",
    "from pathlib import Path\n",
    "\n",
    "\n",
    "\n",
    "sys.path.append('../utils')\n",
    "from helpers import load_env"
   ]
  },
  {
   "cell_type": "code",
   "execution_count": 2,
   "id": "0153f0e0-2952-4eaf-88ea-a1c7fdf0947e",
   "metadata": {},
   "outputs": [
    {
     "name": "stdout",
     "output_type": "stream",
     "text": [
      "Environment variable 'OPENAI_API_KEY' has been loaded successfully.\n"
     ]
    }
   ],
   "source": [
    "# Load and verify API keys\n",
    "load_env(api_key_type=\"OPENAI_API_KEY\")\n"
   ]
  },
  {
   "cell_type": "code",
   "execution_count": 3,
   "id": "56f7b7f9",
   "metadata": {},
   "outputs": [],
   "source": [
    "# Outputs directory\n",
    "OUTPUTS_DIR = './../outputs/'\n",
    "os.makedirs(OUTPUTS_DIR, exist_ok=True)"
   ]
  },
  {
   "cell_type": "code",
   "execution_count": 4,
   "id": "e5824ea2-8167-4be7-9b69-e6e12db0eaff",
   "metadata": {},
   "outputs": [
    {
     "name": "stdout",
     "output_type": "stream",
     "text": [
      "Client ready.\n"
     ]
    }
   ],
   "source": [
    "# Initialize OpenAI client\n",
    "client = OpenAI()  # Uses OPENAI_API_KEY from environment\n",
    "print(\"Client ready.\")"
   ]
  },
  {
   "cell_type": "code",
   "execution_count": 5,
   "id": "3fc45c35-761b-48c7-a045-e4d670d206b3",
   "metadata": {},
   "outputs": [],
   "source": [
    "# Configure Chroma (in-memory for workshop; switch to persistent_dir for disk)\n",
    "SAVE_DIR = Path(OUTPUTS_DIR) / \"chroma_db\"\n",
    "chroma_client = chromadb.PersistentClient(path=SAVE_DIR)\n",
    "collection = chroma_client.get_or_create_collection(\n",
    "    name=\"workshop_docs\",\n",
    "    metadata={\"hnsw:space\": \"cosine\"}\n",
    ")\n"
   ]
  },
  {
   "cell_type": "code",
   "execution_count": 6,
   "id": "c5ef9d2b-154d-4da3-8dc5-43c300081f6b",
   "metadata": {},
   "outputs": [],
   "source": [
    "\n",
    "# --- Chunking utility (simple)\n",
    "def chunk_text(text: str, max_chars: int = 800, overlap: int = 100) -> List[str]:\n",
    "    chunks = []\n",
    "    start = 0\n",
    "    n = len(text)\n",
    "    while start < n:\n",
    "        end = min(n, start + max_chars)\n",
    "        chunks.append(text[start:end])\n",
    "        start += max_chars - overlap\n",
    "    return chunks\n",
    "\n",
    "# --- Embedding & upsert\n",
    "def embed_texts(texts: List[str], model: str = \"text-embedding-3-small\") -> List[List[float]]:\n",
    "    resp = client.embeddings.create(model=model, input=texts)\n",
    "    return [d.embedding for d in resp.data]\n",
    "\n",
    "def ingest_documents(docs: List[Dict]):\n",
    "    ids, docs_texts, metadatas = [], [], []\n",
    "    for d in docs:\n",
    "        chunks = chunk_text(d[\"text\"])\n",
    "        for i, ch in enumerate(chunks):\n",
    "            ids.append(f\"{d['id']}_{i}\")\n",
    "            docs_texts.append(ch)\n",
    "            metadatas.append({\"title\": d[\"title\"], \"parent_id\": d[\"id\"], \"chunk\": i})\n",
    "    \n",
    "    embs = embed_texts(docs_texts)\n",
    "    collection.upsert(ids=ids, documents=docs_texts, metadatas=metadatas, embeddings=embs)\n",
    "    return len(ids)\n",
    "\n",
    "\n",
    "# --- Retrieval\n",
    "def retrieve(query: str, k: int = 3):\n",
    "    q_emb = embed_texts([query])[0]\n",
    "    res = collection.query(query_embeddings=[q_emb], n_results=k, include=[\"documents\",\"metadatas\",\"distances\"])\n",
    "    hits = []\n",
    "    for doc, meta, dist in zip(res[\"documents\"][0], res[\"metadatas\"][0], res[\"distances\"][0]):\n",
    "        hits.append({\"text\": doc, \"meta\": meta, \"distance\": float(dist)})\n",
    "    return hits\n",
    "\n",
    "# Test retrieval\n",
    "for h in retrieve(\"How do you compare models on forecasting tasks?\", k=2):\n",
    "    print(h[\"meta\"][\"title\"], \"→\", h[\"distance\"])"
   ]
  },
  {
   "cell_type": "code",
   "execution_count": 7,
   "id": "adb777b8-9179-4fa9-b4bc-7bdc02fd79bb",
   "metadata": {},
   "outputs": [],
   "source": [
    "# --- Source documents\n",
    "source_docs = [\n",
    "    {\n",
    "        \"id\": \"hr_policy_1\",\n",
    "        \"title\": \"Remote Work Policy\",\n",
    "        \"text\": \"\"\"Our company supports flexible remote work arrangements. Employees can work from home up to 3 days per week with manager approval. Remote workers must maintain core hours of 10 AM to 3 PM in their local timezone for team collaboration. All remote employees are required to have a dedicated workspace with reliable high-speed internet (minimum 25 Mbps download). Equipment such as laptops, monitors, and ergonomic chairs can be requested through IT. Monthly stipends of $50 are provided for home internet expenses. Remote workers must be available for video calls and respond to messages within 2 hours during business hours.\"\"\"\n",
    "    },\n",
    "    {\n",
    "        \"id\": \"hr_policy_2\",\n",
    "        \"title\": \"Paid Time Off (PTO) Policy\",\n",
    "        \"text\": \"\"\"Full-time employees accrue 15 days of PTO annually, increasing to 20 days after 3 years of service and 25 days after 7 years. PTO accrues at 1.25 days per month for standard employees. Time off requests should be submitted at least 2 weeks in advance for periods longer than 3 days. Unused PTO can be carried over up to 5 days into the next calendar year. The company observes 10 federal holidays annually. Employees also receive 5 sick days per year that do not roll over. PTO is prorated for new hires based on their start date.\"\"\"\n",
    "    },\n",
    "    {\n",
    "        \"id\": \"hr_policy_3\",\n",
    "        \"title\": \"Health Insurance Benefits\",\n",
    "        \"text\": \"\"\"The company offers comprehensive health insurance plans through BlueCross BlueShield with three tier options: Basic, Standard, and Premium. Coverage begins on the first day of the month following your start date. The company covers 80% of the premium cost for employees and 60% for dependents. The Basic plan has a $2,000 deductible with $30 copays. The Standard plan has a $1,000 deductible with $20 copays. The Premium plan has a $500 deductible with $10 copays. All plans include dental and vision coverage. Open enrollment occurs every November for the following calendar year. Life changes such as marriage or birth qualify for special enrollment periods within 30 days of the event.\"\"\"\n",
    "    },\n",
    "    {\n",
    "        \"id\": \"hr_policy_4\",\n",
    "        \"title\": \"Professional Development and Training\",\n",
    "        \"text\": \"\"\"Employees are allocated $1,500 annually for professional development, including conferences, courses, certifications, and workshops. Additional funds up to $3,000 may be approved for specialized certifications relevant to your role. The company provides free access to LinkedIn Learning, Coursera, and O'Reilly online learning platforms. Employees can dedicate up to 5 hours per month during work hours for learning activities. Tuition reimbursement of up to $5,000 per year is available for degree programs related to your field. Conference attendance requires manager approval and must be submitted 6 weeks in advance. All expenses must be submitted within 30 days with itemized receipts.\"\"\"\n",
    "    },\n",
    "    {\n",
    "        \"id\": \"hr_policy_5\",\n",
    "        \"title\": \"Parental Leave Policy\",\n",
    "        \"text\": \"\"\"Primary caregivers are entitled to 16 weeks of fully paid parental leave. Secondary caregivers receive 8 weeks of fully paid leave. Leave must be taken within 12 months of the child's birth or adoption. Parents can choose to take leave continuously or split it into two separate periods with manager approval. The company provides a phased return-to-work option allowing 50% schedule for 4 weeks following the leave period. During parental leave, all benefits continue including health insurance and 401k matching. New parents also receive a $1,000 stipend for childcare or baby supplies. Employees must provide 4 weeks notice when possible, except in cases of emergency or early delivery.\"\"\"\n",
    "    },\n",
    "]\n"
   ]
  },
  {
   "cell_type": "markdown",
   "id": "5379431c-ac4e-4bbb-8f61-420c9986d6ac",
   "metadata": {},
   "source": [
    "# Ingest Documents "
   ]
  },
  {
   "cell_type": "code",
   "execution_count": 8,
   "id": "342c60ad-7bbf-4761-98f7-dc80c222cf6c",
   "metadata": {},
   "outputs": [
    {
     "name": "stdout",
     "output_type": "stream",
     "text": [
      "Ingested 5 chunks into Chroma.\n"
     ]
    }
   ],
   "source": [
    "# Ingest documents\n",
    "num_chunks = ingest_documents(source_docs)\n",
    "print(f\"Ingested {num_chunks} chunks into Chroma.\")"
   ]
  },
  {
   "cell_type": "markdown",
   "id": "47c43fa0-2d77-47f3-b6a6-cde54ccdb300",
   "metadata": {},
   "source": [
    "# RAG "
   ]
  },
  {
   "cell_type": "code",
   "execution_count": 9,
   "id": "2f61514a-00cf-4fe6-a24c-7fca40a0431d",
   "metadata": {},
   "outputs": [
    {
     "name": "stdout",
     "output_type": "stream",
     "text": [
      "Question:  How many PTO days do I get?\n",
      "AI Response:  Full-time employees accrue 15 days of PTO annually, increasing to 20 days after 3 years of service and 25 days after 7 years.\n"
     ]
    }
   ],
   "source": [
    "\n",
    "SYSTEM = (\n",
    "    \"You are a helpful RAG assistant. \"\n",
    "    \"Answer based only on the provided CONTEXT. \"\n",
    "    \"If the answer is not in context, say you don't know.\"\n",
    ")\n",
    "\n",
    "USER_TEMPLATE = \"QUESTION: {question}\\n\\nCONTEXT:\\n{context}\"\n",
    "\n",
    "def build_context(hits):\n",
    "    ctx = []\n",
    "    for h in hits:\n",
    "        title = h[\"meta\"][\"title\"]\n",
    "        chunk_id = h[\"meta\"][\"chunk\"]\n",
    "        # print(h[\"meta\"][\"chunk\"])\n",
    "        ctx.append(f\"[{title} / chunk {chunk_id}]\\n{h['text']}\")\n",
    "    return \"\\n\\n\".join(ctx[:3])\n",
    "\n",
    "def rag_answer(question: str):\n",
    "    hits = retrieve(question, k=4)\n",
    "    context = build_context(hits)\n",
    "    prompt = USER_TEMPLATE.format(question=question, context=context)\n",
    "    resp = client.chat.completions.create(\n",
    "        model=\"gpt-4o-mini\",\n",
    "        messages=[\n",
    "            {\"role\": \"system\", \"content\": SYSTEM},\n",
    "            {\"role\": \"user\", \"content\": prompt},\n",
    "        ],\n",
    "        temperature=0.2,\n",
    "    )\n",
    "    return resp.choices[0].message.content, hits\n",
    "\n",
    "question = \"How many PTO days do I get?\"\n",
    "print(\"Question: \", question)\n",
    "rag_response, retrieval_chunks = rag_answer(\"How many PTO days do I get?\")\n",
    "print(\"AI Response: \", rag_response)"
   ]
  },
  {
   "cell_type": "code",
   "execution_count": 10,
   "id": "f31479dd",
   "metadata": {},
   "outputs": [
    {
     "name": "stdout",
     "output_type": "stream",
     "text": [
      "* Running on local URL:  http://127.0.0.1:7864\n",
      "* To create a public link, set `share=True` in `launch()`.\n"
     ]
    },
    {
     "data": {
      "text/html": [
       "<div><iframe src=\"http://127.0.0.1:7864/\" width=\"100%\" height=\"500\" allow=\"autoplay; camera; microphone; clipboard-read; clipboard-write;\" frameborder=\"0\" allowfullscreen></iframe></div>"
      ],
      "text/plain": [
       "<IPython.core.display.HTML object>"
      ]
     },
     "metadata": {},
     "output_type": "display_data"
    },
    {
     "data": {
      "text/plain": []
     },
     "execution_count": 10,
     "metadata": {},
     "output_type": "execute_result"
    }
   ],
   "source": [
    "# --- Gradio Chat UI\n",
    "def chat_with_rag(message, history):\n",
    "    \"\"\"Answer user question using RAG.\"\"\"\n",
    "    answer, hits = rag_answer(message)\n",
    "    \n",
    "    # Add sources with proper formatting\n",
    "    sources = \"\\n\\n**Sources:**\\n\" + \"\\n\".join(\n",
    "        f\"- {h['meta']['title']} (chunk id: {h['meta']['chunk'] + 1})\" \n",
    "        for h in hits[:3]\n",
    "    )\n",
    "    \n",
    "    return answer + sources\n",
    "\n",
    "# Create chat interface\n",
    "demo = gr.ChatInterface(\n",
    "    fn=chat_with_rag,\n",
    "    title=\"RAG Chatbot with ChromaDB\",\n",
    "    description=\"Ask questions about machine learning topics\",\n",
    "    examples=[\n",
    "        \"How many PTO days do I get?\",\n",
    "        \"What's the remote work policy?\",\n",
    "        \"Does the company cover health insurance costs?\",\n",
    "        \"How much can I spend on professional development?\",\n",
    "        \"What is the parental leave policy?\"\n",
    "    ],\n",
    "    type=\"messages\"\n",
    ")\n",
    "\n",
    "# Launch\n",
    "demo.launch()"
   ]
  },
  {
   "cell_type": "markdown",
   "id": "363a0ce9-bacb-4e11-8682-90408df78799",
   "metadata": {},
   "source": [
    "# Exercises \n",
    "\n",
    "EXERCISE 1: Test RAG Limitations (Beginner)\n",
    "----------------------------------------------------------\n",
    "RAG systems can only answer based on the documents they have. Test what happens\n",
    "when you ask questions that aren't covered in the HR policies.\n",
    "\n",
    "Try these queries:\n",
    "1. \"What's the company's vacation policy in Europe?\"\n",
    "2. \"How do I get a promotion?\"\n",
    "3. \"What's the dress code?\"\n",
    "4. \"Tell me about the 401k matching percentage\"\n"
   ]
  }
 ],
 "metadata": {
  "kernelspec": {
   "display_name": ".venv",
   "language": "python",
   "name": "python3"
  },
  "language_info": {
   "codemirror_mode": {
    "name": "ipython",
    "version": 3
   },
   "file_extension": ".py",
   "mimetype": "text/x-python",
   "name": "python",
   "nbconvert_exporter": "python",
   "pygments_lexer": "ipython3",
   "version": "3.12.0"
  }
 },
 "nbformat": 4,
 "nbformat_minor": 5
}
